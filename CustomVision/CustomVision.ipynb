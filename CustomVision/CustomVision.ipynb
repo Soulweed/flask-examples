{
 "cells": [
  {
   "cell_type": "code",
   "execution_count": null,
   "metadata": {
    "collapsed": true
   },
   "outputs": [],
   "source": [
    "import requests\n",
    "import json"
   ]
  },
  {
   "cell_type": "code",
   "execution_count": null,
   "metadata": {
    "collapsed": true
   },
   "outputs": [],
   "source": [
    "def send_request():\n",
    "\n",
    "    try:\n",
    "        response = requests.post(\n",
    "            url=\"https://southcentralus.api.cognitive.microsoft.com/customvision/v1.0/Prediction/bc0be351-9374-49b2-8bf5-8a4ec10b0623/url\",\n",
    "            params={\n",
    "                \"iterationId\": \"14e84505-8678-4e68-a643-48335244192b\",\n",
    "            },\n",
    "            headers={\n",
    "                \"Content-Type\": \"application/json\",\n",
    "                \"Prediction-Key\": \"b0121d7e477d4ec19964813307a723d3\",\n",
    "            },\n",
    "            data=json.dumps({\n",
    "                \"Url\": \"https://www.bhphotovideo.com/images/images500x500/tp_link_hs100_wi_fi_smart_plug_1208066.jpg\"\n",
    "            })\n",
    "        )\n",
    "        print('Response HTTP Status Code: {status_code}'.format(\n",
    "            status_code=response.status_code))\n",
    "        print('Response HTTP Response Body: {content}'.format(\n",
    "            content=response.content))\n",
    "    except requests.exceptions.RequestException:\n",
    "        print('HTTP Request failed')"
   ]
  },
  {
   "cell_type": "markdown",
   "metadata": {},
   "source": [
    "### Make a function that Extract the predict hight score"
   ]
  },
  {
   "cell_type": "code",
   "execution_count": null,
   "metadata": {
    "collapsed": true
   },
   "outputs": [],
   "source": [
    "#def extract_result():\n",
    "    #PUT SOME CODE HERE"
   ]
  },
  {
   "cell_type": "code",
   "execution_count": null,
   "metadata": {},
   "outputs": [],
   "source": [
    "if __name__ == '__main__':\n",
    "    send_request()"
   ]
  },
  {
   "cell_type": "code",
   "execution_count": null,
   "metadata": {
    "collapsed": true
   },
   "outputs": [],
   "source": []
  }
 ],
 "metadata": {
  "kernelspec": {
   "display_name": "Python 3",
   "language": "python",
   "name": "python3"
  },
  "language_info": {
   "codemirror_mode": {
    "name": "ipython",
    "version": 2
   },
   "file_extension": ".py",
   "mimetype": "text/x-python",
   "name": "python",
   "nbconvert_exporter": "python",
   "pygments_lexer": "ipython2",
   "version": "2.7.13"
  }
 },
 "nbformat": 4,
 "nbformat_minor": 1
}
