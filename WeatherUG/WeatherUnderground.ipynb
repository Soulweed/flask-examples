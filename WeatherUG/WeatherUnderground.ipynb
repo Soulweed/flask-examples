{
 "cells": [
  {
   "cell_type": "code",
   "execution_count": null,
   "metadata": {
    "collapsed": true
   },
   "outputs": [],
   "source": [
    "import requests\n",
    "import json"
   ]
  },
  {
   "cell_type": "code",
   "execution_count": null,
   "metadata": {
    "collapsed": true
   },
   "outputs": [],
   "source": [
    "def send_request():\n",
    "    # Request weather underground\n",
    "    # GET http://api.wunderground.com/api/380538e19b591277/conditions/q/TH/Bangkok.json\n",
    "\n",
    "    try:\n",
    "        response = requests.get(\n",
    "            url=\"http://api.wunderground.com/api/380538e19b591277/conditions/q/TH/Bangkok.json\",\n",
    "        )\n",
    "        if response.status_code == 200:\n",
    "            print('Response HTTP Status Code: {status_code}'.format(\n",
    "            status_code=response.status_code))\n",
    "            print('Response HTTP Response Body: {content}'.format(\n",
    "            content=response.content))\n",
    "            return response.content\n",
    "        else:\n",
    "            print('Response HTTP Status Code: {status_code}'.format(\n",
    "            status_code=response.status_code))\n",
    "            return None\n",
    "\n",
    "    except requests.exceptions.RequestException:\n",
    "        print('HTTP Request failed')\n",
    "        return None\n",
    "\n"
   ]
  },
  {
   "cell_type": "code",
   "execution_count": null,
   "metadata": {
    "collapsed": true
   },
   "outputs": [],
   "source": [
    "def main():\n",
    "    print(\"Start Program\")\n",
    "    result = send_request()\n",
    "    output = json.loads(result)\n",
    "    print(type(result))\n",
    "    print(type(output))"
   ]
  },
  {
   "cell_type": "code",
   "execution_count": null,
   "metadata": {},
   "outputs": [],
   "source": [
    "if __name__ == '__main__':\n",
    "    main()"
   ]
  },
  {
   "cell_type": "code",
   "execution_count": null,
   "metadata": {
    "collapsed": true
   },
   "outputs": [],
   "source": []
  }
 ],
 "metadata": {
  "kernelspec": {
   "display_name": "Python 3",
   "language": "python",
   "name": "python3"
  },
  "language_info": {
   "codemirror_mode": {
    "name": "ipython",
    "version": 2
   },
   "file_extension": ".py",
   "mimetype": "text/x-python",
   "name": "python",
   "nbconvert_exporter": "python",
   "pygments_lexer": "ipython2",
   "version": "2.7.13"
  }
 },
 "nbformat": 4,
 "nbformat_minor": 1
}
